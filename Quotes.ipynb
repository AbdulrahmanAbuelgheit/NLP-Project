{
 "cells": [
  {
   "cell_type": "code",
   "execution_count": 26,
   "id": "8be27d69-3b93-412a-89c1-9e241acb22f5",
   "metadata": {
    "tags": []
   },
   "outputs": [],
   "source": [
    "import pandas as pd\n",
    "import string\n",
    "import nltk"
   ]
  },
  {
   "cell_type": "code",
   "execution_count": 27,
   "id": "99b4d064-cff2-4a6b-954a-e1d16df4644d",
   "metadata": {
    "tags": []
   },
   "outputs": [],
   "source": [
    "df=pd.read_csv('twitter_training.csv')"
   ]
  },
  {
   "cell_type": "code",
   "execution_count": 112,
   "id": "013c5e42-f002-450a-a72c-201f24fa31e1",
   "metadata": {
    "tags": []
   },
   "outputs": [],
   "source": [
    "df.head()\n",
    "df.dropna(inplace=True)"
   ]
  },
  {
   "cell_type": "code",
   "execution_count": 113,
   "id": "f373cc43-8be2-4910-a8ec-eae3eaf31bff",
   "metadata": {
    "tags": []
   },
   "outputs": [
    {
     "data": {
      "text/html": [
       "<div>\n",
       "<style scoped>\n",
       "    .dataframe tbody tr th:only-of-type {\n",
       "        vertical-align: middle;\n",
       "    }\n",
       "\n",
       "    .dataframe tbody tr th {\n",
       "        vertical-align: top;\n",
       "    }\n",
       "\n",
       "    .dataframe thead th {\n",
       "        text-align: right;\n",
       "    }\n",
       "</style>\n",
       "<table border=\"1\" class=\"dataframe\">\n",
       "  <thead>\n",
       "    <tr style=\"text-align: right;\">\n",
       "      <th></th>\n",
       "      <th>review</th>\n",
       "      <th>clean_review</th>\n",
       "      <th>stemmed_review</th>\n",
       "      <th>lemmatized_review</th>\n",
       "    </tr>\n",
       "  </thead>\n",
       "  <tbody>\n",
       "    <tr>\n",
       "      <th>0</th>\n",
       "      <td>I am ? This coming to the borders and I will k...</td>\n",
       "      <td>i am ? this coming to the borders and i will k...</td>\n",
       "      <td>come border kill</td>\n",
       "      <td>come border kill</td>\n",
       "    </tr>\n",
       "    <tr>\n",
       "      <th>1</th>\n",
       "      <td>Im getting!! on borderlands and i will kill yo...</td>\n",
       "      <td>im getting!! on borderlands and i will kill yo...</td>\n",
       "      <td>im get borderland kill</td>\n",
       "      <td>im get borderland kill</td>\n",
       "    </tr>\n",
       "  </tbody>\n",
       "</table>\n",
       "</div>"
      ],
      "text/plain": [
       "                                              review  \\\n",
       "0  I am ? This coming to the borders and I will k...   \n",
       "1  Im getting!! on borderlands and i will kill yo...   \n",
       "\n",
       "                                        clean_review          stemmed_review  \\\n",
       "0  i am ? this coming to the borders and i will k...        come border kill   \n",
       "1  im getting!! on borderlands and i will kill yo...  im get borderland kill   \n",
       "\n",
       "        lemmatized_review  \n",
       "0        come border kill  \n",
       "1  im get borderland kill  "
      ]
     },
     "execution_count": 113,
     "metadata": {},
     "output_type": "execute_result"
    }
   ],
   "source": [
    "## Convert to lowercase\n",
    "df['clean_review'] = df['review'].str.lower()\n",
    "df.head(2)"
   ]
  },
  {
   "cell_type": "code",
   "execution_count": 114,
   "id": "a82f6d0e-47d5-44e6-aef3-f6fece5aab00",
   "metadata": {
    "tags": []
   },
   "outputs": [
    {
     "data": {
      "text/plain": [
       "'!\"#$%&\\'()*+,-./:;<=>?@[\\\\]^_`{|}~'"
      ]
     },
     "execution_count": 114,
     "metadata": {},
     "output_type": "execute_result"
    }
   ],
   "source": [
    "#  Punctuations\n",
    "string.punctuation"
   ]
  },
  {
   "cell_type": "code",
   "execution_count": 115,
   "id": "c150ac0e-101f-4874-9f28-195a2d7415c7",
   "metadata": {
    "tags": []
   },
   "outputs": [],
   "source": [
    "def rm_punc(z):\n",
    "    if not isinstance(z, str):  \n",
    "        z = \"\"  \n",
    "    punctuations = string.punctuation\n",
    "    return z.translate(str.maketrans('', '', punctuations))"
   ]
  },
  {
   "cell_type": "code",
   "execution_count": 116,
   "id": "860922bc-158e-420d-b9d0-e6b73d435086",
   "metadata": {
    "tags": []
   },
   "outputs": [
    {
     "data": {
      "text/html": [
       "<div>\n",
       "<style scoped>\n",
       "    .dataframe tbody tr th:only-of-type {\n",
       "        vertical-align: middle;\n",
       "    }\n",
       "\n",
       "    .dataframe tbody tr th {\n",
       "        vertical-align: top;\n",
       "    }\n",
       "\n",
       "    .dataframe thead th {\n",
       "        text-align: right;\n",
       "    }\n",
       "</style>\n",
       "<table border=\"1\" class=\"dataframe\">\n",
       "  <thead>\n",
       "    <tr style=\"text-align: right;\">\n",
       "      <th></th>\n",
       "      <th>review</th>\n",
       "      <th>clean_review</th>\n",
       "      <th>stemmed_review</th>\n",
       "      <th>lemmatized_review</th>\n",
       "    </tr>\n",
       "  </thead>\n",
       "  <tbody>\n",
       "    <tr>\n",
       "      <th>0</th>\n",
       "      <td>I am ? This coming to the borders and I will k...</td>\n",
       "      <td>i am  this coming to the borders and i will ki...</td>\n",
       "      <td>come border kill</td>\n",
       "      <td>come border kill</td>\n",
       "    </tr>\n",
       "    <tr>\n",
       "      <th>1</th>\n",
       "      <td>Im getting!! on borderlands and i will kill yo...</td>\n",
       "      <td>im getting on borderlands and i will kill you all</td>\n",
       "      <td>im get borderland kill</td>\n",
       "      <td>im get borderland kill</td>\n",
       "    </tr>\n",
       "    <tr>\n",
       "      <th>2</th>\n",
       "      <td>im coming. on borderlands and i will murder yo...</td>\n",
       "      <td>im coming on borderlands and i will murder you...</td>\n",
       "      <td>im come borderland murder</td>\n",
       "      <td>im come borderland murder</td>\n",
       "    </tr>\n",
       "    <tr>\n",
       "      <th>3</th>\n",
       "      <td>im getting informations on borderlands 2 and i...</td>\n",
       "      <td>im getting informations on borderlands 2 and i...</td>\n",
       "      <td>im get inform borderland 2 murder</td>\n",
       "      <td>im get information borderlands 2 murder</td>\n",
       "    </tr>\n",
       "    <tr>\n",
       "      <th>4</th>\n",
       "      <td>im getting into borderlands and i can murder y...</td>\n",
       "      <td>im getting into borderlands and i can murder y...</td>\n",
       "      <td>im get borderland murder</td>\n",
       "      <td>im get borderland murder</td>\n",
       "    </tr>\n",
       "  </tbody>\n",
       "</table>\n",
       "</div>"
      ],
      "text/plain": [
       "                                              review  \\\n",
       "0  I am ? This coming to the borders and I will k...   \n",
       "1  Im getting!! on borderlands and i will kill yo...   \n",
       "2  im coming. on borderlands and i will murder yo...   \n",
       "3  im getting informations on borderlands 2 and i...   \n",
       "4  im getting into borderlands and i can murder y...   \n",
       "\n",
       "                                        clean_review  \\\n",
       "0  i am  this coming to the borders and i will ki...   \n",
       "1  im getting on borderlands and i will kill you all   \n",
       "2  im coming on borderlands and i will murder you...   \n",
       "3  im getting informations on borderlands 2 and i...   \n",
       "4  im getting into borderlands and i can murder y...   \n",
       "\n",
       "                      stemmed_review                        lemmatized_review  \n",
       "0                   come border kill                         come border kill  \n",
       "1             im get borderland kill                   im get borderland kill  \n",
       "2          im come borderland murder                im come borderland murder  \n",
       "3  im get inform borderland 2 murder  im get information borderlands 2 murder  \n",
       "4           im get borderland murder                 im get borderland murder  "
      ]
     },
     "execution_count": 116,
     "metadata": {},
     "output_type": "execute_result"
    }
   ],
   "source": [
    "df['clean_review'] = df['clean_review'].apply(lambda y: rm_punc(y))\n",
    "df.head()"
   ]
  },
  {
   "cell_type": "markdown",
   "id": "3f81d0e3-474c-4026-bcc6-bdd27f7758a4",
   "metadata": {
    "tags": []
   },
   "source": []
  },
  {
   "cell_type": "code",
   "execution_count": 117,
   "id": "e948ccfc-9fe7-467d-b849-c35af77dfef3",
   "metadata": {
    "tags": []
   },
   "outputs": [],
   "source": [
    "# Stopwords\n",
    "from nltk.corpus import stopwords"
   ]
  },
  {
   "cell_type": "code",
   "execution_count": 118,
   "id": "c93d0164-1837-41cd-8437-abfefaddf89d",
   "metadata": {
    "tags": []
   },
   "outputs": [],
   "source": [
    "STOPWORDS = set(stopwords.words('english'))\n",
    "def rm_sw(x):\n",
    "    return \" \".join([word for word in x.split() if word not in STOPWORDS])"
   ]
  },
  {
   "cell_type": "code",
   "execution_count": 119,
   "id": "f9211c2e-87cb-4a29-8972-dee22aacfbec",
   "metadata": {
    "tags": []
   },
   "outputs": [
    {
     "data": {
      "text/html": [
       "<div>\n",
       "<style scoped>\n",
       "    .dataframe tbody tr th:only-of-type {\n",
       "        vertical-align: middle;\n",
       "    }\n",
       "\n",
       "    .dataframe tbody tr th {\n",
       "        vertical-align: top;\n",
       "    }\n",
       "\n",
       "    .dataframe thead th {\n",
       "        text-align: right;\n",
       "    }\n",
       "</style>\n",
       "<table border=\"1\" class=\"dataframe\">\n",
       "  <thead>\n",
       "    <tr style=\"text-align: right;\">\n",
       "      <th></th>\n",
       "      <th>review</th>\n",
       "      <th>clean_review</th>\n",
       "      <th>stemmed_review</th>\n",
       "      <th>lemmatized_review</th>\n",
       "    </tr>\n",
       "  </thead>\n",
       "  <tbody>\n",
       "    <tr>\n",
       "      <th>0</th>\n",
       "      <td>I am ? This coming to the borders and I will k...</td>\n",
       "      <td>coming borders kill</td>\n",
       "      <td>come border kill</td>\n",
       "      <td>come border kill</td>\n",
       "    </tr>\n",
       "    <tr>\n",
       "      <th>1</th>\n",
       "      <td>Im getting!! on borderlands and i will kill yo...</td>\n",
       "      <td>im getting borderlands kill</td>\n",
       "      <td>im get borderland kill</td>\n",
       "      <td>im get borderland kill</td>\n",
       "    </tr>\n",
       "    <tr>\n",
       "      <th>2</th>\n",
       "      <td>im coming. on borderlands and i will murder yo...</td>\n",
       "      <td>im coming borderlands murder</td>\n",
       "      <td>im come borderland murder</td>\n",
       "      <td>im come borderland murder</td>\n",
       "    </tr>\n",
       "    <tr>\n",
       "      <th>3</th>\n",
       "      <td>im getting informations on borderlands 2 and i...</td>\n",
       "      <td>im getting informations borderlands 2 murder</td>\n",
       "      <td>im get inform borderland 2 murder</td>\n",
       "      <td>im get information borderlands 2 murder</td>\n",
       "    </tr>\n",
       "    <tr>\n",
       "      <th>4</th>\n",
       "      <td>im getting into borderlands and i can murder y...</td>\n",
       "      <td>im getting borderlands murder</td>\n",
       "      <td>im get borderland murder</td>\n",
       "      <td>im get borderland murder</td>\n",
       "    </tr>\n",
       "  </tbody>\n",
       "</table>\n",
       "</div>"
      ],
      "text/plain": [
       "                                              review  \\\n",
       "0  I am ? This coming to the borders and I will k...   \n",
       "1  Im getting!! on borderlands and i will kill yo...   \n",
       "2  im coming. on borderlands and i will murder yo...   \n",
       "3  im getting informations on borderlands 2 and i...   \n",
       "4  im getting into borderlands and i can murder y...   \n",
       "\n",
       "                                   clean_review  \\\n",
       "0                           coming borders kill   \n",
       "1                   im getting borderlands kill   \n",
       "2                  im coming borderlands murder   \n",
       "3  im getting informations borderlands 2 murder   \n",
       "4                 im getting borderlands murder   \n",
       "\n",
       "                      stemmed_review                        lemmatized_review  \n",
       "0                   come border kill                         come border kill  \n",
       "1             im get borderland kill                   im get borderland kill  \n",
       "2          im come borderland murder                im come borderland murder  \n",
       "3  im get inform borderland 2 murder  im get information borderlands 2 murder  \n",
       "4           im get borderland murder                 im get borderland murder  "
      ]
     },
     "execution_count": 119,
     "metadata": {},
     "output_type": "execute_result"
    }
   ],
   "source": [
    "df['clean_review'] = df['clean_review'].apply(lambda y: rm_sw(y))\n",
    "df.head()"
   ]
  },
  {
   "cell_type": "code",
   "execution_count": 120,
   "id": "889c771c-587b-4068-a2c6-e27e98fd7184",
   "metadata": {
    "tags": []
   },
   "outputs": [],
   "source": [
    "# remove_url\n",
    "import re\n",
    "def rm_url (x):\n",
    "    text = re.sub(r'https?://\\s+|www\\.\\s+',  '', x)\n",
    "    \n",
    "    return x"
   ]
  },
  {
   "cell_type": "code",
   "execution_count": 121,
   "id": "976748d1-3649-489f-b34d-3938b3c116af",
   "metadata": {
    "tags": []
   },
   "outputs": [
    {
     "data": {
      "text/html": [
       "<div>\n",
       "<style scoped>\n",
       "    .dataframe tbody tr th:only-of-type {\n",
       "        vertical-align: middle;\n",
       "    }\n",
       "\n",
       "    .dataframe tbody tr th {\n",
       "        vertical-align: top;\n",
       "    }\n",
       "\n",
       "    .dataframe thead th {\n",
       "        text-align: right;\n",
       "    }\n",
       "</style>\n",
       "<table border=\"1\" class=\"dataframe\">\n",
       "  <thead>\n",
       "    <tr style=\"text-align: right;\">\n",
       "      <th></th>\n",
       "      <th>review</th>\n",
       "      <th>clean_review</th>\n",
       "      <th>stemmed_review</th>\n",
       "      <th>lemmatized_review</th>\n",
       "    </tr>\n",
       "  </thead>\n",
       "  <tbody>\n",
       "    <tr>\n",
       "      <th>0</th>\n",
       "      <td>I am ? This coming to the borders and I will k...</td>\n",
       "      <td>coming borders kill</td>\n",
       "      <td>come border kill</td>\n",
       "      <td>come border kill</td>\n",
       "    </tr>\n",
       "    <tr>\n",
       "      <th>1</th>\n",
       "      <td>Im getting!! on borderlands and i will kill yo...</td>\n",
       "      <td>im getting borderlands kill</td>\n",
       "      <td>im get borderland kill</td>\n",
       "      <td>im get borderland kill</td>\n",
       "    </tr>\n",
       "    <tr>\n",
       "      <th>2</th>\n",
       "      <td>im coming. on borderlands and i will murder yo...</td>\n",
       "      <td>im coming borderlands murder</td>\n",
       "      <td>im come borderland murder</td>\n",
       "      <td>im come borderland murder</td>\n",
       "    </tr>\n",
       "    <tr>\n",
       "      <th>3</th>\n",
       "      <td>im getting informations on borderlands 2 and i...</td>\n",
       "      <td>im getting informations borderlands 2 murder</td>\n",
       "      <td>im get inform borderland 2 murder</td>\n",
       "      <td>im get information borderlands 2 murder</td>\n",
       "    </tr>\n",
       "    <tr>\n",
       "      <th>4</th>\n",
       "      <td>im getting into borderlands and i can murder y...</td>\n",
       "      <td>im getting borderlands murder</td>\n",
       "      <td>im get borderland murder</td>\n",
       "      <td>im get borderland murder</td>\n",
       "    </tr>\n",
       "  </tbody>\n",
       "</table>\n",
       "</div>"
      ],
      "text/plain": [
       "                                              review  \\\n",
       "0  I am ? This coming to the borders and I will k...   \n",
       "1  Im getting!! on borderlands and i will kill yo...   \n",
       "2  im coming. on borderlands and i will murder yo...   \n",
       "3  im getting informations on borderlands 2 and i...   \n",
       "4  im getting into borderlands and i can murder y...   \n",
       "\n",
       "                                   clean_review  \\\n",
       "0                           coming borders kill   \n",
       "1                   im getting borderlands kill   \n",
       "2                  im coming borderlands murder   \n",
       "3  im getting informations borderlands 2 murder   \n",
       "4                 im getting borderlands murder   \n",
       "\n",
       "                      stemmed_review                        lemmatized_review  \n",
       "0                   come border kill                         come border kill  \n",
       "1             im get borderland kill                   im get borderland kill  \n",
       "2          im come borderland murder                im come borderland murder  \n",
       "3  im get inform borderland 2 murder  im get information borderlands 2 murder  \n",
       "4           im get borderland murder                 im get borderland murder  "
      ]
     },
     "execution_count": 121,
     "metadata": {},
     "output_type": "execute_result"
    }
   ],
   "source": [
    "df['clean_review'] = df['clean_review'].apply(lambda y: rm_url(y))\n",
    "df.head()"
   ]
  },
  {
   "cell_type": "code",
   "execution_count": 122,
   "id": "788e2cc8-c5b3-4e12-9de1-62369577c67e",
   "metadata": {
    "tags": []
   },
   "outputs": [],
   "source": [
    "# Remove Special characters\n",
    "\n",
    "def rm_spl_char(x):\n",
    "    x = re.sub('[^a-zA-Z0-9]', ' ', x)\n",
    "    x = re.sub('\\s+', ' ', x)\n",
    "    return x"
   ]
  },
  {
   "cell_type": "code",
   "execution_count": 123,
   "id": "9b1bd8c6-ca44-42d3-82b8-5c0903ca7eec",
   "metadata": {
    "tags": []
   },
   "outputs": [
    {
     "data": {
      "text/html": [
       "<div>\n",
       "<style scoped>\n",
       "    .dataframe tbody tr th:only-of-type {\n",
       "        vertical-align: middle;\n",
       "    }\n",
       "\n",
       "    .dataframe tbody tr th {\n",
       "        vertical-align: top;\n",
       "    }\n",
       "\n",
       "    .dataframe thead th {\n",
       "        text-align: right;\n",
       "    }\n",
       "</style>\n",
       "<table border=\"1\" class=\"dataframe\">\n",
       "  <thead>\n",
       "    <tr style=\"text-align: right;\">\n",
       "      <th></th>\n",
       "      <th>review</th>\n",
       "      <th>clean_review</th>\n",
       "      <th>stemmed_review</th>\n",
       "      <th>lemmatized_review</th>\n",
       "    </tr>\n",
       "  </thead>\n",
       "  <tbody>\n",
       "    <tr>\n",
       "      <th>0</th>\n",
       "      <td>I am ? This coming to the borders and I will k...</td>\n",
       "      <td>coming borders kill</td>\n",
       "      <td>come border kill</td>\n",
       "      <td>come border kill</td>\n",
       "    </tr>\n",
       "    <tr>\n",
       "      <th>1</th>\n",
       "      <td>Im getting!! on borderlands and i will kill yo...</td>\n",
       "      <td>im getting borderlands kill</td>\n",
       "      <td>im get borderland kill</td>\n",
       "      <td>im get borderland kill</td>\n",
       "    </tr>\n",
       "    <tr>\n",
       "      <th>2</th>\n",
       "      <td>im coming. on borderlands and i will murder yo...</td>\n",
       "      <td>im coming borderlands murder</td>\n",
       "      <td>im come borderland murder</td>\n",
       "      <td>im come borderland murder</td>\n",
       "    </tr>\n",
       "    <tr>\n",
       "      <th>3</th>\n",
       "      <td>im getting informations on borderlands 2 and i...</td>\n",
       "      <td>im getting informations borderlands 2 murder</td>\n",
       "      <td>im get inform borderland 2 murder</td>\n",
       "      <td>im get information borderlands 2 murder</td>\n",
       "    </tr>\n",
       "    <tr>\n",
       "      <th>4</th>\n",
       "      <td>im getting into borderlands and i can murder y...</td>\n",
       "      <td>im getting borderlands murder</td>\n",
       "      <td>im get borderland murder</td>\n",
       "      <td>im get borderland murder</td>\n",
       "    </tr>\n",
       "  </tbody>\n",
       "</table>\n",
       "</div>"
      ],
      "text/plain": [
       "                                              review  \\\n",
       "0  I am ? This coming to the borders and I will k...   \n",
       "1  Im getting!! on borderlands and i will kill yo...   \n",
       "2  im coming. on borderlands and i will murder yo...   \n",
       "3  im getting informations on borderlands 2 and i...   \n",
       "4  im getting into borderlands and i can murder y...   \n",
       "\n",
       "                                   clean_review  \\\n",
       "0                           coming borders kill   \n",
       "1                   im getting borderlands kill   \n",
       "2                  im coming borderlands murder   \n",
       "3  im getting informations borderlands 2 murder   \n",
       "4                 im getting borderlands murder   \n",
       "\n",
       "                      stemmed_review                        lemmatized_review  \n",
       "0                   come border kill                         come border kill  \n",
       "1             im get borderland kill                   im get borderland kill  \n",
       "2          im come borderland murder                im come borderland murder  \n",
       "3  im get inform borderland 2 murder  im get information borderlands 2 murder  \n",
       "4           im get borderland murder                 im get borderland murder  "
      ]
     },
     "execution_count": 123,
     "metadata": {},
     "output_type": "execute_result"
    }
   ],
   "source": [
    "df['clean_review'] = df['clean_review'].apply(lambda y: rm_spl_char(y))\n",
    "df.head()"
   ]
  },
  {
   "cell_type": "code",
   "execution_count": 124,
   "id": "f05527e4-def7-4589-8340-44e0203e44d8",
   "metadata": {
    "tags": []
   },
   "outputs": [],
   "source": [
    "# Stemming\n",
    "\n",
    "from nltk.stem.porter import PorterStemmer\n",
    "PorterStemmer = PorterStemmer()\n",
    "def stemming(x):\n",
    "    return \" \".join([PorterStemmer.stem(word) for word in x.split()])"
   ]
  },
  {
   "cell_type": "code",
   "execution_count": 125,
   "id": "8e67f90c-9c52-41b2-9fdb-602e27d0ff1d",
   "metadata": {
    "tags": []
   },
   "outputs": [
    {
     "data": {
      "text/html": [
       "<div>\n",
       "<style scoped>\n",
       "    .dataframe tbody tr th:only-of-type {\n",
       "        vertical-align: middle;\n",
       "    }\n",
       "\n",
       "    .dataframe tbody tr th {\n",
       "        vertical-align: top;\n",
       "    }\n",
       "\n",
       "    .dataframe thead th {\n",
       "        text-align: right;\n",
       "    }\n",
       "</style>\n",
       "<table border=\"1\" class=\"dataframe\">\n",
       "  <thead>\n",
       "    <tr style=\"text-align: right;\">\n",
       "      <th></th>\n",
       "      <th>review</th>\n",
       "      <th>clean_review</th>\n",
       "      <th>stemmed_review</th>\n",
       "      <th>lemmatized_review</th>\n",
       "    </tr>\n",
       "  </thead>\n",
       "  <tbody>\n",
       "    <tr>\n",
       "      <th>0</th>\n",
       "      <td>I am ? This coming to the borders and I will k...</td>\n",
       "      <td>coming borders kill</td>\n",
       "      <td>come border kill</td>\n",
       "      <td>come border kill</td>\n",
       "    </tr>\n",
       "    <tr>\n",
       "      <th>1</th>\n",
       "      <td>Im getting!! on borderlands and i will kill yo...</td>\n",
       "      <td>im getting borderlands kill</td>\n",
       "      <td>im get borderland kill</td>\n",
       "      <td>im get borderland kill</td>\n",
       "    </tr>\n",
       "    <tr>\n",
       "      <th>2</th>\n",
       "      <td>im coming. on borderlands and i will murder yo...</td>\n",
       "      <td>im coming borderlands murder</td>\n",
       "      <td>im come borderland murder</td>\n",
       "      <td>im come borderland murder</td>\n",
       "    </tr>\n",
       "    <tr>\n",
       "      <th>3</th>\n",
       "      <td>im getting informations on borderlands 2 and i...</td>\n",
       "      <td>im getting informations borderlands 2 murder</td>\n",
       "      <td>im get inform borderland 2 murder</td>\n",
       "      <td>im get information borderlands 2 murder</td>\n",
       "    </tr>\n",
       "    <tr>\n",
       "      <th>4</th>\n",
       "      <td>im getting into borderlands and i can murder y...</td>\n",
       "      <td>im getting borderlands murder</td>\n",
       "      <td>im get borderland murder</td>\n",
       "      <td>im get borderland murder</td>\n",
       "    </tr>\n",
       "  </tbody>\n",
       "</table>\n",
       "</div>"
      ],
      "text/plain": [
       "                                              review  \\\n",
       "0  I am ? This coming to the borders and I will k...   \n",
       "1  Im getting!! on borderlands and i will kill yo...   \n",
       "2  im coming. on borderlands and i will murder yo...   \n",
       "3  im getting informations on borderlands 2 and i...   \n",
       "4  im getting into borderlands and i can murder y...   \n",
       "\n",
       "                                   clean_review  \\\n",
       "0                           coming borders kill   \n",
       "1                   im getting borderlands kill   \n",
       "2                  im coming borderlands murder   \n",
       "3  im getting informations borderlands 2 murder   \n",
       "4                 im getting borderlands murder   \n",
       "\n",
       "                      stemmed_review                        lemmatized_review  \n",
       "0                   come border kill                         come border kill  \n",
       "1             im get borderland kill                   im get borderland kill  \n",
       "2          im come borderland murder                im come borderland murder  \n",
       "3  im get inform borderland 2 murder  im get information borderlands 2 murder  \n",
       "4           im get borderland murder                 im get borderland murder  "
      ]
     },
     "execution_count": 125,
     "metadata": {},
     "output_type": "execute_result"
    }
   ],
   "source": [
    "df['stemmed_review'] = df['clean_review'].apply(lambda y: stemming(y))\n",
    "df.head()"
   ]
  },
  {
   "cell_type": "code",
   "execution_count": 126,
   "id": "411121ca-4330-4897-94cd-e6a51dc16da4",
   "metadata": {
    "tags": []
   },
   "outputs": [],
   "source": [
    "# Lemmatizing\n",
    "from nltk import pos_tag\n",
    "from nltk.corpus import wordnet\n",
    "from nltk.stem import WordNetLemmatizer\n",
    "\n",
    "WordNetLemmatizer =WordNetLemmatizer()\n",
    "wordnet_map = {\"N\":wordnet.NOUN, \"V\":wordnet.VERB, \"J\":wordnet.ADJ, \"R\":wordnet.ADV}\n",
    "\n",
    "def lemmatize(x):\n",
    "    # find pos tags\n",
    "    pos_text = pos_tag(x.split())\n",
    "    return \" \".join([WordNetLemmatizer.lemmatize(word, wordnet_map.get(pos[0], wordnet.NOUN)) for word, pos in pos_text])"
   ]
  },
  {
   "cell_type": "code",
   "execution_count": 94,
   "id": "e047d3f2-d6bf-4b13-a9b7-076466568bde",
   "metadata": {
    "tags": []
   },
   "outputs": [
    {
     "data": {
      "text/html": [
       "<div>\n",
       "<style scoped>\n",
       "    .dataframe tbody tr th:only-of-type {\n",
       "        vertical-align: middle;\n",
       "    }\n",
       "\n",
       "    .dataframe tbody tr th {\n",
       "        vertical-align: top;\n",
       "    }\n",
       "\n",
       "    .dataframe thead th {\n",
       "        text-align: right;\n",
       "    }\n",
       "</style>\n",
       "<table border=\"1\" class=\"dataframe\">\n",
       "  <thead>\n",
       "    <tr style=\"text-align: right;\">\n",
       "      <th></th>\n",
       "      <th>review</th>\n",
       "      <th>clean_review</th>\n",
       "      <th>stemmed_review</th>\n",
       "      <th>lemmatized_review</th>\n",
       "    </tr>\n",
       "  </thead>\n",
       "  <tbody>\n",
       "    <tr>\n",
       "      <th>0</th>\n",
       "      <td>I am ? This coming to the borders and I will k...</td>\n",
       "      <td>coming borders kill</td>\n",
       "      <td>come border kill</td>\n",
       "      <td>come border kill</td>\n",
       "    </tr>\n",
       "    <tr>\n",
       "      <th>1</th>\n",
       "      <td>Im getting!! on borderlands and i will kill yo...</td>\n",
       "      <td>im getting borderlands kill</td>\n",
       "      <td>im get borderland kill</td>\n",
       "      <td>im get borderland kill</td>\n",
       "    </tr>\n",
       "    <tr>\n",
       "      <th>2</th>\n",
       "      <td>im coming. on borderlands and i will murder yo...</td>\n",
       "      <td>im coming borderlands murder</td>\n",
       "      <td>im come borderland murder</td>\n",
       "      <td>im come borderland murder</td>\n",
       "    </tr>\n",
       "    <tr>\n",
       "      <th>3</th>\n",
       "      <td>im getting informations on borderlands 2 and i...</td>\n",
       "      <td>im getting informations borderlands 2 murder</td>\n",
       "      <td>im get inform borderland 2 murder</td>\n",
       "      <td>im get information borderlands 2 murder</td>\n",
       "    </tr>\n",
       "    <tr>\n",
       "      <th>4</th>\n",
       "      <td>im getting into borderlands and i can murder y...</td>\n",
       "      <td>im getting borderlands murder</td>\n",
       "      <td>im get borderland murder</td>\n",
       "      <td>im get borderland murder</td>\n",
       "    </tr>\n",
       "  </tbody>\n",
       "</table>\n",
       "</div>"
      ],
      "text/plain": [
       "                                              review  \\\n",
       "0  I am ? This coming to the borders and I will k...   \n",
       "1  Im getting!! on borderlands and i will kill yo...   \n",
       "2  im coming. on borderlands and i will murder yo...   \n",
       "3  im getting informations on borderlands 2 and i...   \n",
       "4  im getting into borderlands and i can murder y...   \n",
       "\n",
       "                                   clean_review  \\\n",
       "0                           coming borders kill   \n",
       "1                   im getting borderlands kill   \n",
       "2                  im coming borderlands murder   \n",
       "3  im getting informations borderlands 2 murder   \n",
       "4                 im getting borderlands murder   \n",
       "\n",
       "                      stemmed_review                        lemmatized_review  \n",
       "0                   come border kill                         come border kill  \n",
       "1             im get borderland kill                   im get borderland kill  \n",
       "2          im come borderland murder                im come borderland murder  \n",
       "3  im get inform borderland 2 murder  im get information borderlands 2 murder  \n",
       "4           im get borderland murder                 im get borderland murder  "
      ]
     },
     "execution_count": 94,
     "metadata": {},
     "output_type": "execute_result"
    }
   ],
   "source": [
    "df['lemmatized_review'] = df['clean_review'].apply(lambda y: lemmatize(y))\n",
    "df.head()"
   ]
  },
  {
   "cell_type": "code",
   "execution_count": 95,
   "id": "f70cc489-34f8-4143-9b9d-b03d2c9f084c",
   "metadata": {
    "tags": []
   },
   "outputs": [],
   "source": [
    "# Tagging Parts of Speech\n",
    "\n",
    "from nltk.tokenize import word_tokenize\n",
    "\n",
    "def tokenize_text(x):\n",
    "    return word_tokenize(x)\n",
    "\n",
    "tok = df['lemmatized_review'].apply(lambda y: tokenize_text(y))\n"
   ]
  },
  {
   "cell_type": "code",
   "execution_count": 96,
   "id": "31fa8b20-080b-4d9a-9ca2-00074bc35d1e",
   "metadata": {
    "tags": []
   },
   "outputs": [
    {
     "name": "stdout",
     "output_type": "stream",
     "text": [
      "0                 [(come, VBN), (border, NN), (kill, NN)]\n",
      "1       [(im, NN), (get, NN), (borderland, NN), (kill,...\n",
      "2       [(im, JJ), (come, VBN), (borderland, NN), (mur...\n",
      "3       [(im, JJ), (get, VB), (information, NN), (bord...\n",
      "4       [(im, NN), (get, NN), (borderland, NN), (murde...\n",
      "                              ...                        \n",
      "1996    [(borderland, NN), (need, MD), (help, VB), (ga...\n",
      "1997    [(congratulation, NN), (borderlands, VBZ), (re...\n",
      "1998    [(congratulation, NN), (borderlands, VBZ), (re...\n",
      "1999    [(congratulation, NN), (borderlands, VBZ), (re...\n",
      "2000    [(congratulation, NN), (borderlands, VBZ), (re...\n",
      "Name: lemmatized_review, Length: 1995, dtype: object\n"
     ]
    }
   ],
   "source": [
    "def apply_pos_tagging(tokens):\n",
    "    return pos_tag(tokens)\n",
    "\n",
    "tps= tok.apply(lambda y: apply_pos_tagging(y))\n",
    "\n",
    "print(tps)"
   ]
  },
  {
   "cell_type": "code",
   "execution_count": 97,
   "id": "da2aa4dc-0313-4a80-8eab-cd8e31301515",
   "metadata": {
    "tags": []
   },
   "outputs": [
    {
     "data": {
      "text/plain": [
       "['tok2vec', 'tagger', 'parser', 'attribute_ruler', 'lemmatizer', 'ner']"
      ]
     },
     "execution_count": 97,
     "metadata": {},
     "output_type": "execute_result"
    }
   ],
   "source": [
    "# Named-Entity Recognition\n",
    "\n",
    "import spacy\n",
    "nlp = spacy.load(\"en_core_web_sm\")\n",
    "nlp.pipe_names"
   ]
  },
  {
   "cell_type": "code",
   "execution_count": 98,
   "id": "b991ba1d-b37e-45a8-ae47-bbe08e3be033",
   "metadata": {
    "tags": []
   },
   "outputs": [
    {
     "name": "stdout",
     "output_type": "stream",
     "text": [
      "0                                                      []\n",
      "1                                                      []\n",
      "2                                                      []\n",
      "3                                         [(2, CARDINAL)]\n",
      "4                                                      []\n",
      "                              ...                        \n",
      "1996                                                   []\n",
      "1997    [(congratulation borderlands research institut...\n",
      "1998    [(congratulation borderlands research institut...\n",
      "1999    [(congratulation borderlands research institut...\n",
      "2000    [(congratulation borderlands research institut...\n",
      "Name: lemmatized_review, Length: 1995, dtype: object\n"
     ]
    }
   ],
   "source": [
    "def entities(x):\n",
    "    doc = nlp(x)\n",
    "    entities = [(ent.text, ent.label_) for ent in doc.ents]\n",
    "    return entities\n",
    "\n",
    "ndr = df['lemmatized_review'].apply(entities)\n",
    "\n",
    "print(ndr)"
   ]
  },
  {
   "cell_type": "code",
   "execution_count": 99,
   "id": "9ff19023-b63d-4151-a7e5-221b5a8e9fe2",
   "metadata": {
    "tags": []
   },
   "outputs": [
    {
     "name": "stdout",
     "output_type": "stream",
     "text": [
      "0       [(come, ROOT, come), (border, compound, kill),...\n",
      "1       [(i, nsubj, get), (m, aux, get), (get, ROOT, g...\n",
      "2       [(i, nsubjpass, come), (m, auxpass, come), (co...\n",
      "3       [(i, nsubj, get), (m, aux, get), (get, ROOT, g...\n",
      "4       [(i, nsubj, get), (m, aux, get), (get, ROOT, g...\n",
      "                              ...                        \n",
      "1996    [(borderland, intj, need), (need, ROOT, need),...\n",
      "1997    [(congratulation, compound, borderlands), (bor...\n",
      "1998    [(congratulation, compound, borderlands), (bor...\n",
      "1999    [(congratulation, compound, borderlands), (bor...\n",
      "2000    [(congratulation, compound, borderlands), (bor...\n",
      "Name: lemmatized_review, Length: 1995, dtype: object\n"
     ]
    }
   ],
   "source": [
    "# Dependency Parsing\n",
    "def dependencies(x):\n",
    "    doc = nlp(x)\n",
    "    dependencies = [(token.text, token.dep_, token.head.text) for token in doc]\n",
    "    return dependencies\n",
    "\n",
    "par = df['lemmatized_review'].apply(lambda y: dependencies(y))\n",
    "\n",
    "print(par)"
   ]
  },
  {
   "cell_type": "code",
   "execution_count": 135,
   "id": "95d45ee6-b536-4a54-98fb-9a768aeda1a7",
   "metadata": {
    "tags": []
   },
   "outputs": [],
   "source": [
    "# Rule-Based Matching \n",
    "from spacy.matcher import Matcher\n",
    "match = Matcher(nlp.vocab)\n",
    "pattern = [{'LOWER': 'kill'}]\n",
    "match.add(\"killPattern\", [pattern])"
   ]
  },
  {
   "cell_type": "code",
   "execution_count": 136,
   "id": "d16c191b-410f-4bb3-9f86-3a5ab82b505e",
   "metadata": {
    "tags": []
   },
   "outputs": [
    {
     "name": "stdout",
     "output_type": "stream",
     "text": [
      "0       [kill]\n",
      "1       [kill]\n",
      "2           []\n",
      "3           []\n",
      "4           []\n",
      "         ...  \n",
      "1996        []\n",
      "1997        []\n",
      "1998        []\n",
      "1999        []\n",
      "2000        []\n",
      "Name: lemmatized_review, Length: 1995, dtype: object\n"
     ]
    }
   ],
   "source": [
    "def matching(x):\n",
    "    doc = nlp(x)\n",
    "    matches = match(doc)\n",
    "    matched_tokens = [doc[start:end].text for match_id, start, end in matches]\n",
    "    return matched_tokens\n",
    "\n",
    "m = df['lemmatized_review'].apply(lambda y: matching(y))\n",
    "\n",
    "print(m)"
   ]
  },
  {
   "cell_type": "code",
   "execution_count": 137,
   "id": "9da22652-8f66-4058-ab2d-3f7250891d22",
   "metadata": {
    "tags": []
   },
   "outputs": [],
   "source": [
    "X=df['lemmatized_review']"
   ]
  },
  {
   "cell_type": "code",
   "execution_count": 138,
   "id": "3edf0566-e304-462b-abf8-3061eecdc72f",
   "metadata": {
    "tags": []
   },
   "outputs": [],
   "source": [
    "# Vectorization tf_idf\n",
    "from sklearn.feature_extraction.text import TfidfVectorizer\n",
    "tfidf = TfidfVectorizer()"
   ]
  },
  {
   "cell_type": "code",
   "execution_count": 139,
   "id": "7434d6e3-6e2e-4bd0-ad6c-2bff56f4ab78",
   "metadata": {
    "tags": []
   },
   "outputs": [],
   "source": [
    "X = tfidf.fit_transform(X)\n"
   ]
  },
  {
   "cell_type": "code",
   "execution_count": 140,
   "id": "53c6032f-d432-436f-a465-e15a0ca88edd",
   "metadata": {
    "tags": []
   },
   "outputs": [],
   "source": [
    "# split\n",
    "from sklearn.model_selection import train_test_split\n",
    "X_train , X_test , Y_train , Y_test  = train_test_split(X, y, test_size = 0.2 ,  random_state = 42)"
   ]
  },
  {
   "cell_type": "code",
   "execution_count": 141,
   "id": "cb34282e-82d5-4d26-8f0a-a1e903b2598c",
   "metadata": {
    "tags": []
   },
   "outputs": [],
   "source": [
    "# Model\n",
    "from sklearn.metrics import accuracy_score\n",
    "from sklearn.svm import SVC"
   ]
  },
  {
   "cell_type": "code",
   "execution_count": 142,
   "id": "187877c1-adce-400a-bed1-9aca9f44e772",
   "metadata": {
    "tags": []
   },
   "outputs": [
    {
     "name": "stdout",
     "output_type": "stream",
     "text": [
      "Accuracy: 0.042606516290726815\n"
     ]
    }
   ],
   "source": [
    "model = SVC()\n",
    "model.fit(X_train, Y_train)\n",
    "\n",
    "Y_pred = model.predict(X_test)\n",
    "\n",
    "accuracy = accuracy_score(Y_test, Y_pred)\n",
    "print(f\"Accuracy: {accuracy}\")"
   ]
  },
  {
   "cell_type": "code",
   "execution_count": null,
   "id": "85aa7242",
   "metadata": {},
   "outputs": [],
   "source": []
  },
  {
   "cell_type": "code",
   "execution_count": null,
   "id": "29f9a21e",
   "metadata": {},
   "outputs": [],
   "source": []
  },
  {
   "cell_type": "code",
   "execution_count": null,
   "id": "3aefe14d",
   "metadata": {},
   "outputs": [],
   "source": []
  },
  {
   "cell_type": "code",
   "execution_count": null,
   "id": "d0f80127",
   "metadata": {},
   "outputs": [],
   "source": []
  },
  {
   "cell_type": "code",
   "execution_count": null,
   "id": "6c5ea49e",
   "metadata": {},
   "outputs": [],
   "source": []
  },
  {
   "cell_type": "code",
   "execution_count": null,
   "id": "73749103",
   "metadata": {},
   "outputs": [],
   "source": []
  }
 ],
 "metadata": {
  "kernelspec": {
   "display_name": "Python 3 (ipykernel)",
   "language": "python",
   "name": "python3"
  },
  "language_info": {
   "codemirror_mode": {
    "name": "ipython",
    "version": 3
   },
   "file_extension": ".py",
   "mimetype": "text/x-python",
   "name": "python",
   "nbconvert_exporter": "python",
   "pygments_lexer": "ipython3",
   "version": "3.11.5"
  }
 },
 "nbformat": 4,
 "nbformat_minor": 5
}
