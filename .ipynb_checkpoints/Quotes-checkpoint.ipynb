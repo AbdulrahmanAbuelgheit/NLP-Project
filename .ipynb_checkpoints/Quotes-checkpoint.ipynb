{
 "cells": [
  {
   "cell_type": "code",
   "execution_count": 1,
   "id": "8be27d69-3b93-412a-89c1-9e241acb22f5",
   "metadata": {
    "tags": []
   },
   "outputs": [],
   "source": [
    "import pandas as pd\n",
    "import string\n",
    "import nltk"
   ]
  },
  {
   "cell_type": "code",
   "execution_count": 4,
   "id": "99b4d064-cff2-4a6b-954a-e1d16df4644d",
   "metadata": {
    "tags": []
   },
   "outputs": [
    {
     "ename": "ParserError",
     "evalue": "Error tokenizing data. C error: Expected 2 fields in line 12, saw 4\n",
     "output_type": "error",
     "traceback": [
      "\u001b[1;31m---------------------------------------------------------------------------\u001b[0m",
      "\u001b[1;31mParserError\u001b[0m                               Traceback (most recent call last)",
      "Cell \u001b[1;32mIn[4], line 1\u001b[0m\n\u001b[1;32m----> 1\u001b[0m df\u001b[38;5;241m=\u001b[39mpd\u001b[38;5;241m.\u001b[39mread_csv(\u001b[38;5;124m'\u001b[39m\u001b[38;5;124msms.csv\u001b[39m\u001b[38;5;124m'\u001b[39m)\n",
      "File \u001b[1;32m~\\anaconda3\\Lib\\site-packages\\pandas\\io\\parsers\\readers.py:912\u001b[0m, in \u001b[0;36mread_csv\u001b[1;34m(filepath_or_buffer, sep, delimiter, header, names, index_col, usecols, dtype, engine, converters, true_values, false_values, skipinitialspace, skiprows, skipfooter, nrows, na_values, keep_default_na, na_filter, verbose, skip_blank_lines, parse_dates, infer_datetime_format, keep_date_col, date_parser, date_format, dayfirst, cache_dates, iterator, chunksize, compression, thousands, decimal, lineterminator, quotechar, quoting, doublequote, escapechar, comment, encoding, encoding_errors, dialect, on_bad_lines, delim_whitespace, low_memory, memory_map, float_precision, storage_options, dtype_backend)\u001b[0m\n\u001b[0;32m    899\u001b[0m kwds_defaults \u001b[38;5;241m=\u001b[39m _refine_defaults_read(\n\u001b[0;32m    900\u001b[0m     dialect,\n\u001b[0;32m    901\u001b[0m     delimiter,\n\u001b[1;32m   (...)\u001b[0m\n\u001b[0;32m    908\u001b[0m     dtype_backend\u001b[38;5;241m=\u001b[39mdtype_backend,\n\u001b[0;32m    909\u001b[0m )\n\u001b[0;32m    910\u001b[0m kwds\u001b[38;5;241m.\u001b[39mupdate(kwds_defaults)\n\u001b[1;32m--> 912\u001b[0m \u001b[38;5;28;01mreturn\u001b[39;00m _read(filepath_or_buffer, kwds)\n",
      "File \u001b[1;32m~\\anaconda3\\Lib\\site-packages\\pandas\\io\\parsers\\readers.py:583\u001b[0m, in \u001b[0;36m_read\u001b[1;34m(filepath_or_buffer, kwds)\u001b[0m\n\u001b[0;32m    580\u001b[0m     \u001b[38;5;28;01mreturn\u001b[39;00m parser\n\u001b[0;32m    582\u001b[0m \u001b[38;5;28;01mwith\u001b[39;00m parser:\n\u001b[1;32m--> 583\u001b[0m     \u001b[38;5;28;01mreturn\u001b[39;00m parser\u001b[38;5;241m.\u001b[39mread(nrows)\n",
      "File \u001b[1;32m~\\anaconda3\\Lib\\site-packages\\pandas\\io\\parsers\\readers.py:1704\u001b[0m, in \u001b[0;36mTextFileReader.read\u001b[1;34m(self, nrows)\u001b[0m\n\u001b[0;32m   1697\u001b[0m nrows \u001b[38;5;241m=\u001b[39m validate_integer(\u001b[38;5;124m\"\u001b[39m\u001b[38;5;124mnrows\u001b[39m\u001b[38;5;124m\"\u001b[39m, nrows)\n\u001b[0;32m   1698\u001b[0m \u001b[38;5;28;01mtry\u001b[39;00m:\n\u001b[0;32m   1699\u001b[0m     \u001b[38;5;66;03m# error: \"ParserBase\" has no attribute \"read\"\u001b[39;00m\n\u001b[0;32m   1700\u001b[0m     (\n\u001b[0;32m   1701\u001b[0m         index,\n\u001b[0;32m   1702\u001b[0m         columns,\n\u001b[0;32m   1703\u001b[0m         col_dict,\n\u001b[1;32m-> 1704\u001b[0m     ) \u001b[38;5;241m=\u001b[39m \u001b[38;5;28mself\u001b[39m\u001b[38;5;241m.\u001b[39m_engine\u001b[38;5;241m.\u001b[39mread(  \u001b[38;5;66;03m# type: ignore[attr-defined]\u001b[39;00m\n\u001b[0;32m   1705\u001b[0m         nrows\n\u001b[0;32m   1706\u001b[0m     )\n\u001b[0;32m   1707\u001b[0m \u001b[38;5;28;01mexcept\u001b[39;00m \u001b[38;5;167;01mException\u001b[39;00m:\n\u001b[0;32m   1708\u001b[0m     \u001b[38;5;28mself\u001b[39m\u001b[38;5;241m.\u001b[39mclose()\n",
      "File \u001b[1;32m~\\anaconda3\\Lib\\site-packages\\pandas\\io\\parsers\\c_parser_wrapper.py:234\u001b[0m, in \u001b[0;36mCParserWrapper.read\u001b[1;34m(self, nrows)\u001b[0m\n\u001b[0;32m    232\u001b[0m \u001b[38;5;28;01mtry\u001b[39;00m:\n\u001b[0;32m    233\u001b[0m     \u001b[38;5;28;01mif\u001b[39;00m \u001b[38;5;28mself\u001b[39m\u001b[38;5;241m.\u001b[39mlow_memory:\n\u001b[1;32m--> 234\u001b[0m         chunks \u001b[38;5;241m=\u001b[39m \u001b[38;5;28mself\u001b[39m\u001b[38;5;241m.\u001b[39m_reader\u001b[38;5;241m.\u001b[39mread_low_memory(nrows)\n\u001b[0;32m    235\u001b[0m         \u001b[38;5;66;03m# destructive to chunks\u001b[39;00m\n\u001b[0;32m    236\u001b[0m         data \u001b[38;5;241m=\u001b[39m _concatenate_chunks(chunks)\n",
      "File \u001b[1;32m~\\anaconda3\\Lib\\site-packages\\pandas\\_libs\\parsers.pyx:814\u001b[0m, in \u001b[0;36mpandas._libs.parsers.TextReader.read_low_memory\u001b[1;34m()\u001b[0m\n",
      "File \u001b[1;32m~\\anaconda3\\Lib\\site-packages\\pandas\\_libs\\parsers.pyx:875\u001b[0m, in \u001b[0;36mpandas._libs.parsers.TextReader._read_rows\u001b[1;34m()\u001b[0m\n",
      "File \u001b[1;32m~\\anaconda3\\Lib\\site-packages\\pandas\\_libs\\parsers.pyx:850\u001b[0m, in \u001b[0;36mpandas._libs.parsers.TextReader._tokenize_rows\u001b[1;34m()\u001b[0m\n",
      "File \u001b[1;32m~\\anaconda3\\Lib\\site-packages\\pandas\\_libs\\parsers.pyx:861\u001b[0m, in \u001b[0;36mpandas._libs.parsers.TextReader._check_tokenize_status\u001b[1;34m()\u001b[0m\n",
      "File \u001b[1;32m~\\anaconda3\\Lib\\site-packages\\pandas\\_libs\\parsers.pyx:2029\u001b[0m, in \u001b[0;36mpandas._libs.parsers.raise_parser_error\u001b[1;34m()\u001b[0m\n",
      "\u001b[1;31mParserError\u001b[0m: Error tokenizing data. C error: Expected 2 fields in line 12, saw 4\n"
     ]
    }
   ],
   "source": [
    "df=pd.read_csv('sms.csv')"
   ]
  },
  {
   "cell_type": "code",
   "execution_count": null,
   "id": "013c5e42-f002-450a-a72c-201f24fa31e1",
   "metadata": {
    "tags": []
   },
   "outputs": [],
   "source": [
    "df.head()"
   ]
  },
  {
   "cell_type": "code",
   "execution_count": 4,
   "id": "ae0956cd-0748-46aa-98f4-0b96a58d0979",
   "metadata": {
    "tags": []
   },
   "outputs": [
    {
     "data": {
      "text/plain": [
       "0       1\n",
       "1       1\n",
       "2       0\n",
       "3       1\n",
       "4       1\n",
       "       ..\n",
       "6415    0\n",
       "6416    0\n",
       "6417    0\n",
       "6418    0\n",
       "6419    1\n",
       "Name: label, Length: 6420, dtype: int8"
      ]
     },
     "execution_count": 4,
     "metadata": {},
     "output_type": "execute_result"
    }
   ],
   "source": [
    "df['label'] = df['label'].astype('category')\n",
    "df['label'] = df['label'].cat.codes\n",
    "df['label']"
   ]
  },
  {
   "cell_type": "code",
   "execution_count": 5,
   "id": "2f427701-89e7-4def-8843-9d37de768f6e",
   "metadata": {
    "tags": []
   },
   "outputs": [],
   "source": [
    "y=df['label']"
   ]
  },
  {
   "cell_type": "code",
   "execution_count": 6,
   "id": "53bc2a8d-5a19-4d16-9d15-76c13d7c97d3",
   "metadata": {
    "tags": []
   },
   "outputs": [],
   "source": [
    "df.drop(['label','id' ], axis=1, inplace=True)"
   ]
  },
  {
   "cell_type": "code",
   "execution_count": 7,
   "id": "3f4414c2-765d-4691-8ca9-2eae72a5ff66",
   "metadata": {
    "tags": []
   },
   "outputs": [
    {
     "data": {
      "text/html": [
       "<div>\n",
       "<style scoped>\n",
       "    .dataframe tbody tr th:only-of-type {\n",
       "        vertical-align: middle;\n",
       "    }\n",
       "\n",
       "    .dataframe tbody tr th {\n",
       "        vertical-align: top;\n",
       "    }\n",
       "\n",
       "    .dataframe thead th {\n",
       "        text-align: right;\n",
       "    }\n",
       "</style>\n",
       "<table border=\"1\" class=\"dataframe\">\n",
       "  <thead>\n",
       "    <tr style=\"text-align: right;\">\n",
       "      <th></th>\n",
       "      <th>tweet</th>\n",
       "    </tr>\n",
       "  </thead>\n",
       "  <tbody>\n",
       "    <tr>\n",
       "      <th>0</th>\n",
       "      <td>The CDC currently reports 99031 deaths. In gen...</td>\n",
       "    </tr>\n",
       "    <tr>\n",
       "      <th>1</th>\n",
       "      <td>States reported 1121 deaths a small rise from ...</td>\n",
       "    </tr>\n",
       "    <tr>\n",
       "      <th>2</th>\n",
       "      <td>Politically Correct Woman (Almost) Uses Pandem...</td>\n",
       "    </tr>\n",
       "    <tr>\n",
       "      <th>3</th>\n",
       "      <td>#IndiaFightsCorona: We have 1524 #COVID testin...</td>\n",
       "    </tr>\n",
       "    <tr>\n",
       "      <th>4</th>\n",
       "      <td>Populous states can generate large case counts...</td>\n",
       "    </tr>\n",
       "  </tbody>\n",
       "</table>\n",
       "</div>"
      ],
      "text/plain": [
       "                                               tweet\n",
       "0  The CDC currently reports 99031 deaths. In gen...\n",
       "1  States reported 1121 deaths a small rise from ...\n",
       "2  Politically Correct Woman (Almost) Uses Pandem...\n",
       "3  #IndiaFightsCorona: We have 1524 #COVID testin...\n",
       "4  Populous states can generate large case counts..."
      ]
     },
     "execution_count": 7,
     "metadata": {},
     "output_type": "execute_result"
    }
   ],
   "source": [
    "df.head()"
   ]
  },
  {
   "cell_type": "code",
   "execution_count": 8,
   "id": "f373cc43-8be2-4910-a8ec-eae3eaf31bff",
   "metadata": {
    "tags": []
   },
   "outputs": [
    {
     "data": {
      "text/html": [
       "<div>\n",
       "<style scoped>\n",
       "    .dataframe tbody tr th:only-of-type {\n",
       "        vertical-align: middle;\n",
       "    }\n",
       "\n",
       "    .dataframe tbody tr th {\n",
       "        vertical-align: top;\n",
       "    }\n",
       "\n",
       "    .dataframe thead th {\n",
       "        text-align: right;\n",
       "    }\n",
       "</style>\n",
       "<table border=\"1\" class=\"dataframe\">\n",
       "  <thead>\n",
       "    <tr style=\"text-align: right;\">\n",
       "      <th></th>\n",
       "      <th>tweet</th>\n",
       "      <th>clean_tweet</th>\n",
       "    </tr>\n",
       "  </thead>\n",
       "  <tbody>\n",
       "    <tr>\n",
       "      <th>0</th>\n",
       "      <td>The CDC currently reports 99031 deaths. In gen...</td>\n",
       "      <td>the cdc currently reports 99031 deaths. in gen...</td>\n",
       "    </tr>\n",
       "    <tr>\n",
       "      <th>1</th>\n",
       "      <td>States reported 1121 deaths a small rise from ...</td>\n",
       "      <td>states reported 1121 deaths a small rise from ...</td>\n",
       "    </tr>\n",
       "  </tbody>\n",
       "</table>\n",
       "</div>"
      ],
      "text/plain": [
       "                                               tweet  \\\n",
       "0  The CDC currently reports 99031 deaths. In gen...   \n",
       "1  States reported 1121 deaths a small rise from ...   \n",
       "\n",
       "                                         clean_tweet  \n",
       "0  the cdc currently reports 99031 deaths. in gen...  \n",
       "1  states reported 1121 deaths a small rise from ...  "
      ]
     },
     "execution_count": 8,
     "metadata": {},
     "output_type": "execute_result"
    }
   ],
   "source": [
    "## Convert to lowercase\n",
    "df['clean_tweet'] = df['tweet'].str.lower()\n",
    "df.head(2)"
   ]
  },
  {
   "cell_type": "code",
   "execution_count": null,
   "id": "eda37fbc-d96a-4cf4-a48e-df8ddb909675",
   "metadata": {
    "tags": []
   },
   "outputs": [],
   "source": []
  },
  {
   "cell_type": "code",
   "execution_count": 9,
   "id": "a82f6d0e-47d5-44e6-aef3-f6fece5aab00",
   "metadata": {
    "tags": []
   },
   "outputs": [
    {
     "data": {
      "text/plain": [
       "'!\"#$%&\\'()*+,-./:;<=>?@[\\\\]^_`{|}~'"
      ]
     },
     "execution_count": 9,
     "metadata": {},
     "output_type": "execute_result"
    }
   ],
   "source": [
    "#  Punctuations\n",
    "string.punctuation"
   ]
  },
  {
   "cell_type": "code",
   "execution_count": 10,
   "id": "c150ac0e-101f-4874-9f28-195a2d7415c7",
   "metadata": {
    "tags": []
   },
   "outputs": [],
   "source": [
    "def rm_punc(z):\n",
    "    if not isinstance(z, str):  \n",
    "        z = \"\"  \n",
    "    punctuations = string.punctuation\n",
    "    return z.translate(str.maketrans('', '', punctuations))"
   ]
  },
  {
   "cell_type": "code",
   "execution_count": 11,
   "id": "860922bc-158e-420d-b9d0-e6b73d435086",
   "metadata": {
    "tags": []
   },
   "outputs": [
    {
     "data": {
      "text/html": [
       "<div>\n",
       "<style scoped>\n",
       "    .dataframe tbody tr th:only-of-type {\n",
       "        vertical-align: middle;\n",
       "    }\n",
       "\n",
       "    .dataframe tbody tr th {\n",
       "        vertical-align: top;\n",
       "    }\n",
       "\n",
       "    .dataframe thead th {\n",
       "        text-align: right;\n",
       "    }\n",
       "</style>\n",
       "<table border=\"1\" class=\"dataframe\">\n",
       "  <thead>\n",
       "    <tr style=\"text-align: right;\">\n",
       "      <th></th>\n",
       "      <th>tweet</th>\n",
       "      <th>clean_tweet</th>\n",
       "    </tr>\n",
       "  </thead>\n",
       "  <tbody>\n",
       "    <tr>\n",
       "      <th>0</th>\n",
       "      <td>The CDC currently reports 99031 deaths. In gen...</td>\n",
       "      <td>the cdc currently reports 99031 deaths in gene...</td>\n",
       "    </tr>\n",
       "    <tr>\n",
       "      <th>1</th>\n",
       "      <td>States reported 1121 deaths a small rise from ...</td>\n",
       "      <td>states reported 1121 deaths a small rise from ...</td>\n",
       "    </tr>\n",
       "    <tr>\n",
       "      <th>2</th>\n",
       "      <td>Politically Correct Woman (Almost) Uses Pandem...</td>\n",
       "      <td>politically correct woman almost uses pandemic...</td>\n",
       "    </tr>\n",
       "    <tr>\n",
       "      <th>3</th>\n",
       "      <td>#IndiaFightsCorona: We have 1524 #COVID testin...</td>\n",
       "      <td>indiafightscorona we have 1524 covid testing l...</td>\n",
       "    </tr>\n",
       "    <tr>\n",
       "      <th>4</th>\n",
       "      <td>Populous states can generate large case counts...</td>\n",
       "      <td>populous states can generate large case counts...</td>\n",
       "    </tr>\n",
       "  </tbody>\n",
       "</table>\n",
       "</div>"
      ],
      "text/plain": [
       "                                               tweet  \\\n",
       "0  The CDC currently reports 99031 deaths. In gen...   \n",
       "1  States reported 1121 deaths a small rise from ...   \n",
       "2  Politically Correct Woman (Almost) Uses Pandem...   \n",
       "3  #IndiaFightsCorona: We have 1524 #COVID testin...   \n",
       "4  Populous states can generate large case counts...   \n",
       "\n",
       "                                         clean_tweet  \n",
       "0  the cdc currently reports 99031 deaths in gene...  \n",
       "1  states reported 1121 deaths a small rise from ...  \n",
       "2  politically correct woman almost uses pandemic...  \n",
       "3  indiafightscorona we have 1524 covid testing l...  \n",
       "4  populous states can generate large case counts...  "
      ]
     },
     "execution_count": 11,
     "metadata": {},
     "output_type": "execute_result"
    }
   ],
   "source": [
    "df['clean_tweet'] = df['clean_tweet'].apply(lambda y: rm_punc(y))\n",
    "df.head()"
   ]
  },
  {
   "cell_type": "markdown",
   "id": "3f81d0e3-474c-4026-bcc6-bdd27f7758a4",
   "metadata": {
    "tags": []
   },
   "source": []
  },
  {
   "cell_type": "code",
   "execution_count": 12,
   "id": "e948ccfc-9fe7-467d-b849-c35af77dfef3",
   "metadata": {
    "tags": []
   },
   "outputs": [],
   "source": [
    "# Stopwords\n",
    "from nltk.corpus import stopwords"
   ]
  },
  {
   "cell_type": "code",
   "execution_count": 13,
   "id": "c93d0164-1837-41cd-8437-abfefaddf89d",
   "metadata": {
    "tags": []
   },
   "outputs": [],
   "source": [
    "STOPWORDS = set(stopwords.words('english'))\n",
    "def rm_sw(x):\n",
    "    return \" \".join([word for word in x.split() if word not in STOPWORDS])"
   ]
  },
  {
   "cell_type": "code",
   "execution_count": 14,
   "id": "f9211c2e-87cb-4a29-8972-dee22aacfbec",
   "metadata": {
    "tags": []
   },
   "outputs": [
    {
     "data": {
      "text/html": [
       "<div>\n",
       "<style scoped>\n",
       "    .dataframe tbody tr th:only-of-type {\n",
       "        vertical-align: middle;\n",
       "    }\n",
       "\n",
       "    .dataframe tbody tr th {\n",
       "        vertical-align: top;\n",
       "    }\n",
       "\n",
       "    .dataframe thead th {\n",
       "        text-align: right;\n",
       "    }\n",
       "</style>\n",
       "<table border=\"1\" class=\"dataframe\">\n",
       "  <thead>\n",
       "    <tr style=\"text-align: right;\">\n",
       "      <th></th>\n",
       "      <th>tweet</th>\n",
       "      <th>clean_tweet</th>\n",
       "    </tr>\n",
       "  </thead>\n",
       "  <tbody>\n",
       "    <tr>\n",
       "      <th>0</th>\n",
       "      <td>The CDC currently reports 99031 deaths. In gen...</td>\n",
       "      <td>cdc currently reports 99031 deaths general dis...</td>\n",
       "    </tr>\n",
       "    <tr>\n",
       "      <th>1</th>\n",
       "      <td>States reported 1121 deaths a small rise from ...</td>\n",
       "      <td>states reported 1121 deaths small rise last tu...</td>\n",
       "    </tr>\n",
       "    <tr>\n",
       "      <th>2</th>\n",
       "      <td>Politically Correct Woman (Almost) Uses Pandem...</td>\n",
       "      <td>politically correct woman almost uses pandemic...</td>\n",
       "    </tr>\n",
       "    <tr>\n",
       "      <th>3</th>\n",
       "      <td>#IndiaFightsCorona: We have 1524 #COVID testin...</td>\n",
       "      <td>indiafightscorona 1524 covid testing laborator...</td>\n",
       "    </tr>\n",
       "    <tr>\n",
       "      <th>4</th>\n",
       "      <td>Populous states can generate large case counts...</td>\n",
       "      <td>populous states generate large case counts loo...</td>\n",
       "    </tr>\n",
       "  </tbody>\n",
       "</table>\n",
       "</div>"
      ],
      "text/plain": [
       "                                               tweet  \\\n",
       "0  The CDC currently reports 99031 deaths. In gen...   \n",
       "1  States reported 1121 deaths a small rise from ...   \n",
       "2  Politically Correct Woman (Almost) Uses Pandem...   \n",
       "3  #IndiaFightsCorona: We have 1524 #COVID testin...   \n",
       "4  Populous states can generate large case counts...   \n",
       "\n",
       "                                         clean_tweet  \n",
       "0  cdc currently reports 99031 deaths general dis...  \n",
       "1  states reported 1121 deaths small rise last tu...  \n",
       "2  politically correct woman almost uses pandemic...  \n",
       "3  indiafightscorona 1524 covid testing laborator...  \n",
       "4  populous states generate large case counts loo...  "
      ]
     },
     "execution_count": 14,
     "metadata": {},
     "output_type": "execute_result"
    }
   ],
   "source": [
    "df['clean_tweet'] = df['clean_tweet'].apply(lambda y: rm_sw(y))\n",
    "df.head()"
   ]
  },
  {
   "cell_type": "code",
   "execution_count": null,
   "id": "39771dd9-17cb-4b56-802e-fe7b49876067",
   "metadata": {
    "tags": []
   },
   "outputs": [],
   "source": []
  },
  {
   "cell_type": "code",
   "execution_count": 15,
   "id": "889c771c-587b-4068-a2c6-e27e98fd7184",
   "metadata": {
    "tags": []
   },
   "outputs": [],
   "source": [
    "# remove_url\n",
    "import re\n",
    "def rm_url (x):\n",
    "    text = re.sub(r'https?://\\s+|www\\.\\s+',  '', x)\n",
    "    \n",
    "    return x"
   ]
  },
  {
   "cell_type": "code",
   "execution_count": 16,
   "id": "976748d1-3649-489f-b34d-3938b3c116af",
   "metadata": {
    "tags": []
   },
   "outputs": [
    {
     "data": {
      "text/html": [
       "<div>\n",
       "<style scoped>\n",
       "    .dataframe tbody tr th:only-of-type {\n",
       "        vertical-align: middle;\n",
       "    }\n",
       "\n",
       "    .dataframe tbody tr th {\n",
       "        vertical-align: top;\n",
       "    }\n",
       "\n",
       "    .dataframe thead th {\n",
       "        text-align: right;\n",
       "    }\n",
       "</style>\n",
       "<table border=\"1\" class=\"dataframe\">\n",
       "  <thead>\n",
       "    <tr style=\"text-align: right;\">\n",
       "      <th></th>\n",
       "      <th>tweet</th>\n",
       "      <th>clean_tweet</th>\n",
       "    </tr>\n",
       "  </thead>\n",
       "  <tbody>\n",
       "    <tr>\n",
       "      <th>0</th>\n",
       "      <td>The CDC currently reports 99031 deaths. In gen...</td>\n",
       "      <td>cdc currently reports 99031 deaths general dis...</td>\n",
       "    </tr>\n",
       "    <tr>\n",
       "      <th>1</th>\n",
       "      <td>States reported 1121 deaths a small rise from ...</td>\n",
       "      <td>states reported 1121 deaths small rise last tu...</td>\n",
       "    </tr>\n",
       "    <tr>\n",
       "      <th>2</th>\n",
       "      <td>Politically Correct Woman (Almost) Uses Pandem...</td>\n",
       "      <td>politically correct woman almost uses pandemic...</td>\n",
       "    </tr>\n",
       "    <tr>\n",
       "      <th>3</th>\n",
       "      <td>#IndiaFightsCorona: We have 1524 #COVID testin...</td>\n",
       "      <td>indiafightscorona 1524 covid testing laborator...</td>\n",
       "    </tr>\n",
       "    <tr>\n",
       "      <th>4</th>\n",
       "      <td>Populous states can generate large case counts...</td>\n",
       "      <td>populous states generate large case counts loo...</td>\n",
       "    </tr>\n",
       "  </tbody>\n",
       "</table>\n",
       "</div>"
      ],
      "text/plain": [
       "                                               tweet  \\\n",
       "0  The CDC currently reports 99031 deaths. In gen...   \n",
       "1  States reported 1121 deaths a small rise from ...   \n",
       "2  Politically Correct Woman (Almost) Uses Pandem...   \n",
       "3  #IndiaFightsCorona: We have 1524 #COVID testin...   \n",
       "4  Populous states can generate large case counts...   \n",
       "\n",
       "                                         clean_tweet  \n",
       "0  cdc currently reports 99031 deaths general dis...  \n",
       "1  states reported 1121 deaths small rise last tu...  \n",
       "2  politically correct woman almost uses pandemic...  \n",
       "3  indiafightscorona 1524 covid testing laborator...  \n",
       "4  populous states generate large case counts loo...  "
      ]
     },
     "execution_count": 16,
     "metadata": {},
     "output_type": "execute_result"
    }
   ],
   "source": [
    "df['clean_tweet'] = df['clean_tweet'].apply(lambda y: rm_url(y))\n",
    "df.head()"
   ]
  },
  {
   "cell_type": "code",
   "execution_count": null,
   "id": "b7f9f488-d21b-416e-8b12-f80d3b6c320a",
   "metadata": {
    "tags": []
   },
   "outputs": [],
   "source": []
  },
  {
   "cell_type": "code",
   "execution_count": 17,
   "id": "788e2cc8-c5b3-4e12-9de1-62369577c67e",
   "metadata": {
    "tags": []
   },
   "outputs": [],
   "source": [
    "# Remove Special characters\n",
    "\n",
    "def rm_spl_char(x):\n",
    "    x = re.sub('[^a-zA-Z0-9]', ' ', x)\n",
    "    x = re.sub('\\s+', ' ', x)\n",
    "    return x"
   ]
  },
  {
   "cell_type": "code",
   "execution_count": 18,
   "id": "9b1bd8c6-ca44-42d3-82b8-5c0903ca7eec",
   "metadata": {
    "tags": []
   },
   "outputs": [
    {
     "data": {
      "text/html": [
       "<div>\n",
       "<style scoped>\n",
       "    .dataframe tbody tr th:only-of-type {\n",
       "        vertical-align: middle;\n",
       "    }\n",
       "\n",
       "    .dataframe tbody tr th {\n",
       "        vertical-align: top;\n",
       "    }\n",
       "\n",
       "    .dataframe thead th {\n",
       "        text-align: right;\n",
       "    }\n",
       "</style>\n",
       "<table border=\"1\" class=\"dataframe\">\n",
       "  <thead>\n",
       "    <tr style=\"text-align: right;\">\n",
       "      <th></th>\n",
       "      <th>tweet</th>\n",
       "      <th>clean_tweet</th>\n",
       "    </tr>\n",
       "  </thead>\n",
       "  <tbody>\n",
       "    <tr>\n",
       "      <th>0</th>\n",
       "      <td>The CDC currently reports 99031 deaths. In gen...</td>\n",
       "      <td>cdc currently reports 99031 deaths general dis...</td>\n",
       "    </tr>\n",
       "    <tr>\n",
       "      <th>1</th>\n",
       "      <td>States reported 1121 deaths a small rise from ...</td>\n",
       "      <td>states reported 1121 deaths small rise last tu...</td>\n",
       "    </tr>\n",
       "    <tr>\n",
       "      <th>2</th>\n",
       "      <td>Politically Correct Woman (Almost) Uses Pandem...</td>\n",
       "      <td>politically correct woman almost uses pandemic...</td>\n",
       "    </tr>\n",
       "    <tr>\n",
       "      <th>3</th>\n",
       "      <td>#IndiaFightsCorona: We have 1524 #COVID testin...</td>\n",
       "      <td>indiafightscorona 1524 covid testing laborator...</td>\n",
       "    </tr>\n",
       "    <tr>\n",
       "      <th>4</th>\n",
       "      <td>Populous states can generate large case counts...</td>\n",
       "      <td>populous states generate large case counts loo...</td>\n",
       "    </tr>\n",
       "  </tbody>\n",
       "</table>\n",
       "</div>"
      ],
      "text/plain": [
       "                                               tweet  \\\n",
       "0  The CDC currently reports 99031 deaths. In gen...   \n",
       "1  States reported 1121 deaths a small rise from ...   \n",
       "2  Politically Correct Woman (Almost) Uses Pandem...   \n",
       "3  #IndiaFightsCorona: We have 1524 #COVID testin...   \n",
       "4  Populous states can generate large case counts...   \n",
       "\n",
       "                                         clean_tweet  \n",
       "0  cdc currently reports 99031 deaths general dis...  \n",
       "1  states reported 1121 deaths small rise last tu...  \n",
       "2  politically correct woman almost uses pandemic...  \n",
       "3  indiafightscorona 1524 covid testing laborator...  \n",
       "4  populous states generate large case counts loo...  "
      ]
     },
     "execution_count": 18,
     "metadata": {},
     "output_type": "execute_result"
    }
   ],
   "source": [
    "df['clean_tweet'] = df['clean_tweet'].apply(lambda y: rm_spl_char(y))\n",
    "df.head()"
   ]
  },
  {
   "cell_type": "code",
   "execution_count": null,
   "id": "63e49ee0-dfe9-4b0b-bc2e-031d2474100b",
   "metadata": {
    "tags": []
   },
   "outputs": [],
   "source": []
  },
  {
   "cell_type": "code",
   "execution_count": 19,
   "id": "f05527e4-def7-4589-8340-44e0203e44d8",
   "metadata": {
    "tags": []
   },
   "outputs": [],
   "source": [
    "# Stemming\n",
    "\n",
    "from nltk.stem.porter import PorterStemmer\n",
    "PorterStemmer = PorterStemmer()\n",
    "def stemming(x):\n",
    "    return \" \".join([PorterStemmer.stem(word) for word in x.split()])"
   ]
  },
  {
   "cell_type": "code",
   "execution_count": 20,
   "id": "8e67f90c-9c52-41b2-9fdb-602e27d0ff1d",
   "metadata": {
    "tags": []
   },
   "outputs": [
    {
     "data": {
      "text/html": [
       "<div>\n",
       "<style scoped>\n",
       "    .dataframe tbody tr th:only-of-type {\n",
       "        vertical-align: middle;\n",
       "    }\n",
       "\n",
       "    .dataframe tbody tr th {\n",
       "        vertical-align: top;\n",
       "    }\n",
       "\n",
       "    .dataframe thead th {\n",
       "        text-align: right;\n",
       "    }\n",
       "</style>\n",
       "<table border=\"1\" class=\"dataframe\">\n",
       "  <thead>\n",
       "    <tr style=\"text-align: right;\">\n",
       "      <th></th>\n",
       "      <th>tweet</th>\n",
       "      <th>clean_tweet</th>\n",
       "      <th>stemmed_tweet</th>\n",
       "    </tr>\n",
       "  </thead>\n",
       "  <tbody>\n",
       "    <tr>\n",
       "      <th>0</th>\n",
       "      <td>The CDC currently reports 99031 deaths. In gen...</td>\n",
       "      <td>cdc currently reports 99031 deaths general dis...</td>\n",
       "      <td>cdc current report 99031 death gener discrep d...</td>\n",
       "    </tr>\n",
       "    <tr>\n",
       "      <th>1</th>\n",
       "      <td>States reported 1121 deaths a small rise from ...</td>\n",
       "      <td>states reported 1121 deaths small rise last tu...</td>\n",
       "      <td>state report 1121 death small rise last tuesda...</td>\n",
       "    </tr>\n",
       "    <tr>\n",
       "      <th>2</th>\n",
       "      <td>Politically Correct Woman (Almost) Uses Pandem...</td>\n",
       "      <td>politically correct woman almost uses pandemic...</td>\n",
       "      <td>polit correct woman almost use pandem excus re...</td>\n",
       "    </tr>\n",
       "    <tr>\n",
       "      <th>3</th>\n",
       "      <td>#IndiaFightsCorona: We have 1524 #COVID testin...</td>\n",
       "      <td>indiafightscorona 1524 covid testing laborator...</td>\n",
       "      <td>indiafightscorona 1524 covid test laboratori i...</td>\n",
       "    </tr>\n",
       "    <tr>\n",
       "      <th>4</th>\n",
       "      <td>Populous states can generate large case counts...</td>\n",
       "      <td>populous states generate large case counts loo...</td>\n",
       "      <td>popul state gener larg case count look new cas...</td>\n",
       "    </tr>\n",
       "  </tbody>\n",
       "</table>\n",
       "</div>"
      ],
      "text/plain": [
       "                                               tweet  \\\n",
       "0  The CDC currently reports 99031 deaths. In gen...   \n",
       "1  States reported 1121 deaths a small rise from ...   \n",
       "2  Politically Correct Woman (Almost) Uses Pandem...   \n",
       "3  #IndiaFightsCorona: We have 1524 #COVID testin...   \n",
       "4  Populous states can generate large case counts...   \n",
       "\n",
       "                                         clean_tweet  \\\n",
       "0  cdc currently reports 99031 deaths general dis...   \n",
       "1  states reported 1121 deaths small rise last tu...   \n",
       "2  politically correct woman almost uses pandemic...   \n",
       "3  indiafightscorona 1524 covid testing laborator...   \n",
       "4  populous states generate large case counts loo...   \n",
       "\n",
       "                                       stemmed_tweet  \n",
       "0  cdc current report 99031 death gener discrep d...  \n",
       "1  state report 1121 death small rise last tuesda...  \n",
       "2  polit correct woman almost use pandem excus re...  \n",
       "3  indiafightscorona 1524 covid test laboratori i...  \n",
       "4  popul state gener larg case count look new cas...  "
      ]
     },
     "execution_count": 20,
     "metadata": {},
     "output_type": "execute_result"
    }
   ],
   "source": [
    "df['stemmed_tweet'] = df['clean_tweet'].apply(lambda y: stemming(y))\n",
    "df.head()"
   ]
  },
  {
   "cell_type": "code",
   "execution_count": null,
   "id": "fabc7be6-0b19-43b8-9d7a-54ace3badfa3",
   "metadata": {},
   "outputs": [],
   "source": []
  },
  {
   "cell_type": "code",
   "execution_count": 21,
   "id": "411121ca-4330-4897-94cd-e6a51dc16da4",
   "metadata": {
    "tags": []
   },
   "outputs": [],
   "source": [
    "# Lemmatizing\n",
    "from nltk import pos_tag\n",
    "from nltk.corpus import wordnet\n",
    "from nltk.stem import WordNetLemmatizer\n",
    "\n",
    "WordNetLemmatizer =WordNetLemmatizer()\n",
    "wordnet_map = {\"N\":wordnet.NOUN, \"V\":wordnet.VERB, \"J\":wordnet.ADJ, \"R\":wordnet.ADV}\n",
    "\n",
    "def lemmatize(x):\n",
    "    # find pos tags\n",
    "    pos_text = pos_tag(x.split())\n",
    "    return \" \".join([WordNetLemmatizer.lemmatize(word, wordnet_map.get(pos[0], wordnet.NOUN)) for word, pos in pos_text])"
   ]
  },
  {
   "cell_type": "code",
   "execution_count": 22,
   "id": "e047d3f2-d6bf-4b13-a9b7-076466568bde",
   "metadata": {
    "tags": []
   },
   "outputs": [
    {
     "data": {
      "text/html": [
       "<div>\n",
       "<style scoped>\n",
       "    .dataframe tbody tr th:only-of-type {\n",
       "        vertical-align: middle;\n",
       "    }\n",
       "\n",
       "    .dataframe tbody tr th {\n",
       "        vertical-align: top;\n",
       "    }\n",
       "\n",
       "    .dataframe thead th {\n",
       "        text-align: right;\n",
       "    }\n",
       "</style>\n",
       "<table border=\"1\" class=\"dataframe\">\n",
       "  <thead>\n",
       "    <tr style=\"text-align: right;\">\n",
       "      <th></th>\n",
       "      <th>tweet</th>\n",
       "      <th>clean_tweet</th>\n",
       "      <th>stemmed_tweet</th>\n",
       "      <th>lemmatized_tweet</th>\n",
       "    </tr>\n",
       "  </thead>\n",
       "  <tbody>\n",
       "    <tr>\n",
       "      <th>0</th>\n",
       "      <td>The CDC currently reports 99031 deaths. In gen...</td>\n",
       "      <td>cdc currently reports 99031 deaths general dis...</td>\n",
       "      <td>cdc current report 99031 death gener discrep d...</td>\n",
       "      <td>cdc currently report 99031 death general discr...</td>\n",
       "    </tr>\n",
       "    <tr>\n",
       "      <th>1</th>\n",
       "      <td>States reported 1121 deaths a small rise from ...</td>\n",
       "      <td>states reported 1121 deaths small rise last tu...</td>\n",
       "      <td>state report 1121 death small rise last tuesda...</td>\n",
       "      <td>state report 1121 death small rise last tuesda...</td>\n",
       "    </tr>\n",
       "    <tr>\n",
       "      <th>2</th>\n",
       "      <td>Politically Correct Woman (Almost) Uses Pandem...</td>\n",
       "      <td>politically correct woman almost uses pandemic...</td>\n",
       "      <td>polit correct woman almost use pandem excus re...</td>\n",
       "      <td>politically correct woman almost use pandemic ...</td>\n",
       "    </tr>\n",
       "    <tr>\n",
       "      <th>3</th>\n",
       "      <td>#IndiaFightsCorona: We have 1524 #COVID testin...</td>\n",
       "      <td>indiafightscorona 1524 covid testing laborator...</td>\n",
       "      <td>indiafightscorona 1524 covid test laboratori i...</td>\n",
       "      <td>indiafightscorona 1524 covid test laboratory i...</td>\n",
       "    </tr>\n",
       "    <tr>\n",
       "      <th>4</th>\n",
       "      <td>Populous states can generate large case counts...</td>\n",
       "      <td>populous states generate large case counts loo...</td>\n",
       "      <td>popul state gener larg case count look new cas...</td>\n",
       "      <td>populous state generate large case count look ...</td>\n",
       "    </tr>\n",
       "  </tbody>\n",
       "</table>\n",
       "</div>"
      ],
      "text/plain": [
       "                                               tweet  \\\n",
       "0  The CDC currently reports 99031 deaths. In gen...   \n",
       "1  States reported 1121 deaths a small rise from ...   \n",
       "2  Politically Correct Woman (Almost) Uses Pandem...   \n",
       "3  #IndiaFightsCorona: We have 1524 #COVID testin...   \n",
       "4  Populous states can generate large case counts...   \n",
       "\n",
       "                                         clean_tweet  \\\n",
       "0  cdc currently reports 99031 deaths general dis...   \n",
       "1  states reported 1121 deaths small rise last tu...   \n",
       "2  politically correct woman almost uses pandemic...   \n",
       "3  indiafightscorona 1524 covid testing laborator...   \n",
       "4  populous states generate large case counts loo...   \n",
       "\n",
       "                                       stemmed_tweet  \\\n",
       "0  cdc current report 99031 death gener discrep d...   \n",
       "1  state report 1121 death small rise last tuesda...   \n",
       "2  polit correct woman almost use pandem excus re...   \n",
       "3  indiafightscorona 1524 covid test laboratori i...   \n",
       "4  popul state gener larg case count look new cas...   \n",
       "\n",
       "                                    lemmatized_tweet  \n",
       "0  cdc currently report 99031 death general discr...  \n",
       "1  state report 1121 death small rise last tuesda...  \n",
       "2  politically correct woman almost use pandemic ...  \n",
       "3  indiafightscorona 1524 covid test laboratory i...  \n",
       "4  populous state generate large case count look ...  "
      ]
     },
     "execution_count": 22,
     "metadata": {},
     "output_type": "execute_result"
    }
   ],
   "source": [
    "df['lemmatized_tweet'] = df['clean_tweet'].apply(lambda y: lemmatize(y))\n",
    "df.head()"
   ]
  },
  {
   "cell_type": "code",
   "execution_count": 23,
   "id": "f7f92408-8cf7-49e3-8995-3c8c857b393e",
   "metadata": {
    "tags": []
   },
   "outputs": [
    {
     "name": "stdout",
     "output_type": "stream",
     "text": [
      "112614\n"
     ]
    }
   ],
   "source": [
    "total_word_count = 0\n",
    "for content in df['lemmatized_tweet']:\n",
    "    total_word_count += sum(1 for _ in content.split())\n",
    "print(total_word_count)"
   ]
  },
  {
   "cell_type": "code",
   "execution_count": null,
   "id": "22949017-e156-43f7-9409-b2ceb4dc2118",
   "metadata": {
    "tags": []
   },
   "outputs": [],
   "source": []
  },
  {
   "cell_type": "code",
   "execution_count": 24,
   "id": "f70cc489-34f8-4143-9b9d-b03d2c9f084c",
   "metadata": {
    "tags": []
   },
   "outputs": [],
   "source": [
    "# Tagging Parts of Speech\n",
    "\n",
    "from nltk.tokenize import word_tokenize\n",
    "\n",
    "def tokenize_text(x):\n",
    "    return word_tokenize(x)\n",
    "\n",
    "tok = df['lemmatized_tweet'].apply(lambda y: tokenize_text(y))\n"
   ]
  },
  {
   "cell_type": "code",
   "execution_count": 25,
   "id": "31fa8b20-080b-4d9a-9ca2-00074bc35d1e",
   "metadata": {
    "tags": []
   },
   "outputs": [
    {
     "name": "stdout",
     "output_type": "stream",
     "text": [
      "0       [(cdc, NNS), (currently, RB), (report, VBP), (...\n",
      "1       [(state, NN), (report, NN), (1121, CD), (death...\n",
      "2       [(politically, RB), (correct, JJ), (woman, NN)...\n",
      "3       [(indiafightscorona, NN), (1524, CD), (covid, ...\n",
      "4       [(populous, JJ), (state, NN), (generate, NN), ...\n",
      "                              ...                        \n",
      "6415    [(tiger, NN), (test, NN), (positive, JJ), (cov...\n",
      "6416    [(autopsy, NN), (prove, VB), (covid19, NN), (b...\n",
      "6417    [(post, NN), (claim, NN), (covid19, NN), (vacc...\n",
      "6418    [(aamir, RB), (khan, VB), (donate, NN), (250, ...\n",
      "6419    [(93, CD), (day, NN), (since, IN), (last, JJ),...\n",
      "Name: lemmatized_tweet, Length: 6420, dtype: object\n"
     ]
    }
   ],
   "source": [
    "def apply_pos_tagging(tokens):\n",
    "    return pos_tag(tokens)\n",
    "\n",
    "tps= tok.apply(lambda y: apply_pos_tagging(y))\n",
    "\n",
    "print(tps)"
   ]
  },
  {
   "cell_type": "code",
   "execution_count": null,
   "id": "d598701e-6a6c-4f72-9238-65426ba94dd2",
   "metadata": {
    "tags": []
   },
   "outputs": [],
   "source": []
  },
  {
   "cell_type": "code",
   "execution_count": 26,
   "id": "da2aa4dc-0313-4a80-8eab-cd8e31301515",
   "metadata": {
    "tags": []
   },
   "outputs": [
    {
     "data": {
      "text/plain": [
       "['tok2vec', 'tagger', 'parser', 'attribute_ruler', 'lemmatizer', 'ner']"
      ]
     },
     "execution_count": 26,
     "metadata": {},
     "output_type": "execute_result"
    }
   ],
   "source": [
    "# Named-Entity Recognition\n",
    "\n",
    "import spacy\n",
    "nlp = spacy.load(\"en_core_web_sm\")\n",
    "nlp.pipe_names\n"
   ]
  },
  {
   "cell_type": "code",
   "execution_count": 27,
   "id": "5628ebe0-c2fd-40b9-8695-dc4889d57713",
   "metadata": {
    "tags": []
   },
   "outputs": [],
   "source": [
    "import spacy"
   ]
  },
  {
   "cell_type": "code",
   "execution_count": 28,
   "id": "a7b4bdb1-be4c-4b11-886b-debfe4100ba1",
   "metadata": {
    "tags": []
   },
   "outputs": [
    {
     "data": {
      "text/plain": [
       "['tok2vec', 'tagger', 'parser', 'attribute_ruler', 'lemmatizer', 'ner']"
      ]
     },
     "execution_count": 28,
     "metadata": {},
     "output_type": "execute_result"
    }
   ],
   "source": [
    "nlp = spacy.load(\"en_core_web_sm\")\n",
    "nlp.pipe_names"
   ]
  },
  {
   "cell_type": "code",
   "execution_count": 29,
   "id": "b991ba1d-b37e-45a8-ae47-bbe08e3be033",
   "metadata": {
    "tags": []
   },
   "outputs": [
    {
     "name": "stdout",
     "output_type": "stream",
     "text": [
      "0       [(cdc, ORG), (99031, CARDINAL), (roughly 10000...\n",
      "1       [(1121, DATE), (last tuesday, DATE), (southern...\n",
      "2           [(httpstcothf8gunfpe, GPE), (nashville, GPE)]\n",
      "3       [(indiafightscorona 1524, ORG), (india, GPE), ...\n",
      "4       [(today, DATE), (9, CARDINAL), (california, GP...\n",
      "                              ...                        \n",
      "6415                                  [(covid19, PERSON)]\n",
      "6416                                  [(covid19, PERSON)]\n",
      "6417                                  [(covid19, PERSON)]\n",
      "6418            [(aamir khan, PERSON), (250 cr pm, TIME)]\n",
      "6419    [(93 day, DATE), (covid19, PERSON), (covid19 n...\n",
      "Name: lemmatized_tweet, Length: 6420, dtype: object\n"
     ]
    }
   ],
   "source": [
    "def entities(x):\n",
    "    doc = nlp(x)\n",
    "    entities = [(ent.text, ent.label_) for ent in doc.ents]\n",
    "    return entities\n",
    "\n",
    "ndr = df['lemmatized_tweet'].apply(entities)\n",
    "\n",
    "print(ndr)"
   ]
  },
  {
   "cell_type": "code",
   "execution_count": null,
   "id": "2891df44-5256-47b2-89c0-52394ace4cc6",
   "metadata": {
    "tags": []
   },
   "outputs": [],
   "source": []
  },
  {
   "cell_type": "code",
   "execution_count": 30,
   "id": "9ff19023-b63d-4151-a7e5-221b5a8e9fe2",
   "metadata": {
    "tags": []
   },
   "outputs": [
    {
     "name": "stdout",
     "output_type": "stream",
     "text": [
      "0       [(cdc, nsubj, report), (currently, advmod, rep...\n",
      "1       [(state, compound, report), (report, nmod, ris...\n",
      "2       [(politically, advmod, correct), (correct, amo...\n",
      "3       [(indiafightscorona, nmod, laboratory), (1524,...\n",
      "4       [(populous, amod, state), (state, nsubj, gener...\n",
      "                              ...                        \n",
      "6415    [(tiger, compound, test), (test, nmod, covid19...\n",
      "6416    [(autopsy, nsubj, prove), (prove, compound, pa...\n",
      "6417    [(post, compound, claim), (claim, compound, va...\n",
      "6418    [(aamir, compound, khan), (khan, nsubj, donate...\n",
      "6419    [(93, nummod, day), (day, npadvmod, acquire), ...\n",
      "Name: lemmatized_tweet, Length: 6420, dtype: object\n"
     ]
    }
   ],
   "source": [
    "# Dependency Parsing\n",
    "def dependencies(x):\n",
    "    doc = nlp(x)\n",
    "    dependencies = [(token.text, token.dep_, token.head.text) for token in doc]\n",
    "    return dependencies\n",
    "\n",
    "par = df['lemmatized_tweet'].apply(lambda y: dependencies(y))\n",
    "\n",
    "print(par)"
   ]
  },
  {
   "cell_type": "code",
   "execution_count": null,
   "id": "357f3f59-320d-4062-b033-baabb3c897ee",
   "metadata": {
    "tags": []
   },
   "outputs": [],
   "source": []
  },
  {
   "cell_type": "code",
   "execution_count": 31,
   "id": "95d45ee6-b536-4a54-98fb-9a768aeda1a7",
   "metadata": {
    "tags": []
   },
   "outputs": [],
   "source": [
    "# Rule-Based Matching \n",
    "from spacy.matcher import Matcher\n",
    "match = Matcher(nlp.vocab)\n",
    "pattern = [{'LOWER': 'covid19'}]\n",
    "match.add(\"covid19Pattern\", [pattern])"
   ]
  },
  {
   "cell_type": "code",
   "execution_count": 32,
   "id": "d16c191b-410f-4bb3-9f86-3a5ab82b505e",
   "metadata": {
    "tags": []
   },
   "outputs": [
    {
     "name": "stdout",
     "output_type": "stream",
     "text": [
      "0                       []\n",
      "1                       []\n",
      "2                       []\n",
      "3                       []\n",
      "4                       []\n",
      "               ...        \n",
      "6415             [covid19]\n",
      "6416             [covid19]\n",
      "6417             [covid19]\n",
      "6418                    []\n",
      "6419    [covid19, covid19]\n",
      "Name: lemmatized_tweet, Length: 6420, dtype: object\n"
     ]
    }
   ],
   "source": [
    "def matching(x):\n",
    "    doc = nlp(x)\n",
    "    matches = match(doc)\n",
    "    matched_tokens = [doc[start:end].text for match_id, start, end in matches]\n",
    "    return matched_tokens\n",
    "\n",
    "m = df['lemmatized_tweet'].apply(lambda y: matching(y))\n",
    "\n",
    "print(m)"
   ]
  },
  {
   "cell_type": "code",
   "execution_count": null,
   "id": "ffd25273-2744-445e-9f13-b03d164ecc6c",
   "metadata": {
    "tags": []
   },
   "outputs": [],
   "source": []
  },
  {
   "cell_type": "code",
   "execution_count": 33,
   "id": "9da22652-8f66-4058-ab2d-3f7250891d22",
   "metadata": {
    "tags": []
   },
   "outputs": [],
   "source": [
    "X=df['lemmatized_tweet']"
   ]
  },
  {
   "cell_type": "code",
   "execution_count": 34,
   "id": "3edf0566-e304-462b-abf8-3061eecdc72f",
   "metadata": {
    "tags": []
   },
   "outputs": [],
   "source": [
    "# Vectorization tf_idf\n",
    "from sklearn.feature_extraction.text import TfidfVectorizer\n",
    "tfidf = TfidfVectorizer()"
   ]
  },
  {
   "cell_type": "code",
   "execution_count": 35,
   "id": "7434d6e3-6e2e-4bd0-ad6c-2bff56f4ab78",
   "metadata": {
    "tags": []
   },
   "outputs": [],
   "source": [
    "X = tfidf.fit_transform(X)\n"
   ]
  },
  {
   "cell_type": "code",
   "execution_count": null,
   "id": "a909cb16-ed74-42f1-b9b1-85aa21c8f61f",
   "metadata": {
    "tags": []
   },
   "outputs": [],
   "source": []
  },
  {
   "cell_type": "code",
   "execution_count": 36,
   "id": "53c6032f-d432-436f-a465-e15a0ca88edd",
   "metadata": {
    "tags": []
   },
   "outputs": [],
   "source": [
    "# split\n",
    "from sklearn.model_selection import train_test_split\n",
    "X_train , X_test , Y_train , Y_test  = train_test_split(X, y, test_size = 0.2 ,  random_state = 42)"
   ]
  },
  {
   "cell_type": "code",
   "execution_count": 37,
   "id": "cb34282e-82d5-4d26-8f0a-a1e903b2598c",
   "metadata": {
    "tags": []
   },
   "outputs": [],
   "source": [
    "# Model\n",
    "from sklearn.metrics import accuracy_score\n",
    "from sklearn.svm import SVC"
   ]
  },
  {
   "cell_type": "code",
   "execution_count": 38,
   "id": "187877c1-adce-400a-bed1-9aca9f44e772",
   "metadata": {
    "tags": []
   },
   "outputs": [
    {
     "name": "stdout",
     "output_type": "stream",
     "text": [
      "Accuracy: 0.910436137071651\n"
     ]
    }
   ],
   "source": [
    "model = SVC()\n",
    "model.fit(X_train, Y_train)\n",
    "\n",
    "Y_pred = model.predict(X_test)\n",
    "\n",
    "accuracy = accuracy_score(Y_test, Y_pred)\n",
    "print(f\"Accuracy: {accuracy}\")"
   ]
  },
  {
   "cell_type": "code",
   "execution_count": null,
   "id": "d8253b4f-17d7-4757-a579-9d7e76e749b3",
   "metadata": {},
   "outputs": [],
   "source": []
  },
  {
   "cell_type": "code",
   "execution_count": null,
   "id": "f56571d9-3d2f-4e8a-b7a9-718ae7319cac",
   "metadata": {},
   "outputs": [],
   "source": []
  },
  {
   "cell_type": "code",
   "execution_count": null,
   "id": "24255f05-aa8b-4fb1-abb5-ac1406c471cf",
   "metadata": {},
   "outputs": [],
   "source": []
  }
 ],
 "metadata": {
  "kernelspec": {
   "display_name": "Python 3 (ipykernel)",
   "language": "python",
   "name": "python3"
  },
  "language_info": {
   "codemirror_mode": {
    "name": "ipython",
    "version": 3
   },
   "file_extension": ".py",
   "mimetype": "text/x-python",
   "name": "python",
   "nbconvert_exporter": "python",
   "pygments_lexer": "ipython3",
   "version": "3.11.5"
  }
 },
 "nbformat": 4,
 "nbformat_minor": 5
}
